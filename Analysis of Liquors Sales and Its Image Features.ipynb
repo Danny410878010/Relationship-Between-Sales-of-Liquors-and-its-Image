{
 "cells": [
  {
   "cell_type": "code",
   "execution_count": 7,
   "metadata": {},
   "outputs": [
    {
     "name": "stderr",
     "output_type": "stream",
     "text": [
      "C:\\Users\\user\\AppData\\Local\\Temp\\ipykernel_30444\\4143939232.py:4: DtypeWarning: Columns (6) have mixed types. Specify dtype option on import or set low_memory=False.\n",
      "  df = pd.read_csv('D:/p/Iowa_Liquor_Sales.csv')\n"
     ]
    }
   ],
   "source": [
    "# Input data\n",
    "import pandas as pd\n",
    "\n",
    "df = pd.read_csv('D:/p/Iowa_Liquor_Sales.csv')"
   ]
  },
  {
   "cell_type": "code",
   "execution_count": 3,
   "metadata": {},
   "outputs": [
    {
     "name": "stdout",
     "output_type": "stream",
     "text": [
      "        Invoice/Item Number       Date  Store Number  \\\n",
      "100            S10699400047 2013-02-20          4794   \n",
      "102            S08792800017 2012-11-06          2459   \n",
      "103            S04854100048 2012-04-03          2487   \n",
      "104            S13206600042 2013-07-08          3908   \n",
      "106            S08900500035 2012-11-13          4509   \n",
      "...                     ...        ...           ...   \n",
      "8197498        S20177600011 2014-07-17          3666   \n",
      "8197500        S13373400046 2013-07-16          4297   \n",
      "8197501        S09930800322 2013-01-08          2614   \n",
      "8197502        S06961800244 2012-08-06          2500   \n",
      "8197504        S04191200005 2012-02-21          3842   \n",
      "\n",
      "                                   Store Name                      Address  \\\n",
      "100      Smokin' Joe's #17 Tobacco and Liquor       110 S ROOSEVELT HWY 61   \n",
      "102                            Reinhart Foods          200 STATE PO BOX 98   \n",
      "103                      Anamosa Family Foods                402 EAST MAIN   \n",
      "104         County Market #214 / Fort Madison               11802 AVENUE H   \n",
      "106                           A J'S LIQUOR II             2515 CHAMBERLAIN   \n",
      "...                                       ...                          ...   \n",
      "8197498    Target Store T-1771 / Cedar Rapids          3400 EDGEWOOD RD SW   \n",
      "8197500        Discount Liquor / Cedar Rapids             2933  1ST AVE SE   \n",
      "8197501          Hy-Vee #3 Food and Drugstore           1823 E KIMBERLY RD   \n",
      "8197502           Hy-Vee Food Store #1 / Ames           3800 W LINCOLN WAY   \n",
      "8197504                 Bancroft Liquor Store  107 N PORTLAND ST PO BX 222   \n",
      "\n",
      "                   City Zip Code  \\\n",
      "100          BURLINGTON    52601   \n",
      "102      GUTHRIE CENTER    50115   \n",
      "103             ANAMOSA    52205   \n",
      "104        FORT MADISON    52627   \n",
      "106                AMES    50010   \n",
      "...                 ...      ...   \n",
      "8197498    CEDAR RAPIDS    52404   \n",
      "8197500    CEDAR RAPIDS    52402   \n",
      "8197501       DAVENPORT    52807   \n",
      "8197502            AMES    50010   \n",
      "8197504        BANCROFT    50517   \n",
      "\n",
      "                                            Store Location  County Number  \\\n",
      "100      110 S ROOSEVELT HWY 61\\nBURLINGTON 52601\\n(40....           29.0   \n",
      "102            200 STATE PO BOX 98\\nGUTHRIE CENTER 50115\\n           39.0   \n",
      "103      402 EAST MAIN\\nANAMOSA 52205\\n(42.108289, -91....           53.0   \n",
      "104                   11802 AVENUE H\\nFORT MADISON 52627\\n           56.0   \n",
      "106      2515 CHAMBERLAIN\\nAMES 50010\\n(42.02146, -93.6...           85.0   \n",
      "...                                                    ...            ...   \n",
      "8197498  3400 EDGEWOOD RD SW\\nCEDAR RAPIDS 52404\\n(41.9...           57.0   \n",
      "8197500  2933 1ST AVE SE\\nCEDAR RAPIDS 52402\\n(42.00653...           57.0   \n",
      "8197501  1823 E KIMBERLY RD\\nDAVENPORT 52807\\n(41.55678...           82.0   \n",
      "8197502  3800 W LINCOLN WAY\\nAMES 50010\\n(42.023145, -9...           85.0   \n",
      "8197504  107 N PORTLAND ST PO BX 222\\nBANCROFT 50517\\n(...           55.0   \n",
      "\n",
      "             County  ...  Item Number                Item Description  Pack  \\\n",
      "100      Des Moines  ...        64000                         Absente    12   \n",
      "102         Guthrie  ...        44499                Cruzan Mango Rum    12   \n",
      "103           Jones  ...        80578       Arrow Peppermint Schnapps     6   \n",
      "104             Lee  ...        41694       Uv Blue (raspberry) Vodka    12   \n",
      "106           Story  ...        75210                   Kinky Liqueur     6   \n",
      "...             ...  ...          ...                             ...   ...   \n",
      "8197498        Linn  ...        17206             Cedar Ridge Bourbon     6   \n",
      "8197500        Linn  ...        28866                   Tanqueray Gin    12   \n",
      "8197501       Scott  ...        80571  Arrow Peppermint Schnapps Mini    12   \n",
      "8197502       Story  ...        87250                Cabo Wabo Blanco     6   \n",
      "8197504     Kossuth  ...        26827   Jack Daniels Old #7 Black Lbl    12   \n",
      "\n",
      "        Bottle Volume (ml)  State Bottle Cost State Bottle Retail  \\\n",
      "100                    750             $21.67              $32.50   \n",
      "102                    750              $6.82              $10.24   \n",
      "103                   1750              $7.04              $10.56   \n",
      "104                   1000              $7.50              $11.25   \n",
      "106                    750             $10.00              $15.00   \n",
      "...                    ...                ...                 ...   \n",
      "8197498                750             $17.60              $26.40   \n",
      "8197500                750             $11.50              $17.49   \n",
      "8197501                500              $4.54               $6.81   \n",
      "8197502                750             $18.17              $27.25   \n",
      "8197504               1000             $16.43              $24.64   \n",
      "\n",
      "         Bottles Sold  Sale (Dollars) Volume Sold (Liters)  \\\n",
      "100                 4         $130.00                 3.00   \n",
      "102                 3          $30.72                 2.25   \n",
      "103                 3          $31.68                 5.25   \n",
      "104                12         $135.00                12.00   \n",
      "106                12         $180.00                 9.00   \n",
      "...               ...             ...                  ...   \n",
      "8197498             6         $158.40                 4.50   \n",
      "8197500             2          $34.98                 1.50   \n",
      "8197501             1           $6.81                 0.50   \n",
      "8197502             6         $163.50                 4.50   \n",
      "8197504            12         $295.68                12.00   \n",
      "\n",
      "        Volume Sold (Gallons)  \n",
      "100                      0.79  \n",
      "102                      0.59  \n",
      "103                      1.39  \n",
      "104                      3.17  \n",
      "106                      2.38  \n",
      "...                       ...  \n",
      "8197498                  1.19  \n",
      "8197500                  0.40  \n",
      "8197501                  0.13  \n",
      "8197502                  1.19  \n",
      "8197504                  3.17  \n",
      "\n",
      "[6243618 rows x 24 columns]\n"
     ]
    }
   ],
   "source": [
    "# Parse the date column using a specific date format\n",
    "df['Date'] = pd.to_datetime(df['Date'], format='%m/%d/%Y')\n",
    "\n",
    "# Filter data between the years 2012 and 2014\n",
    "start_date = '2012-01-01'\n",
    "end_date = '2014-12-31'\n",
    "\n",
    "# Filter the dataframe\n",
    "f_df = df[(df['Date'] >= start_date) & (df['Date'] <= end_date)]\n",
    "print(f_df)"
   ]
  },
  {
   "cell_type": "code",
   "execution_count": 4,
   "metadata": {},
   "outputs": [
    {
     "name": "stdout",
     "output_type": "stream",
     "text": [
      "                       Item Description  Bottles Sold\n",
      "100                             Absente             4\n",
      "102                    Cruzan Mango Rum             3\n",
      "103           Arrow Peppermint Schnapps             3\n",
      "104           Uv Blue (raspberry) Vodka            12\n",
      "106                       Kinky Liqueur            12\n",
      "...                                 ...           ...\n",
      "8197498             Cedar Ridge Bourbon             6\n",
      "8197500                   Tanqueray Gin             2\n",
      "8197501  Arrow Peppermint Schnapps Mini             1\n",
      "8197502                Cabo Wabo Blanco             6\n",
      "8197504   Jack Daniels Old #7 Black Lbl            12\n",
      "\n",
      "[6243618 rows x 2 columns]\n"
     ]
    }
   ],
   "source": [
    "# Pick out variable \"Bottles Sold\" to make analysis\n",
    "selected_columns = ['Item Description', 'Bottles Sold']\n",
    "df_selected = f_df[selected_columns]\n",
    "print(df_selected)"
   ]
  },
  {
   "cell_type": "code",
   "execution_count": 4,
   "metadata": {},
   "outputs": [],
   "source": [
    "# I only have the image of first 912 liquors' image. Therefore, extract first 912 liquors sales data\n",
    "from scipy import stats\n",
    "grouped_df = df_selected.groupby('Item Description')['Bottles Sold'].sum().reset_index()\n",
    "sorted_df = grouped_df.sort_values(by='Bottles Sold', ascending=False).reset_index(drop=True)\n",
    "# print(sorted_df)\n",
    "# sorted_df.to_csv('D:/p/Iowa_Liquor_Sales_Sorted.csv', index=False)\n",
    "combined_df = pd.concat([sorted_df.head(10), sorted_df.tail(10)], ignore_index=True)\n",
    "# combined_df.to_csv('D:/p/Iowa_Liquor_Sales_f.csv', index=False)\n",
    "# print(combined_df)\n",
    "# print(sorted_df)\n",
    "combined_df_t = sorted_df.head(912)\n"
   ]
  },
  {
   "cell_type": "code",
   "execution_count": 11,
   "metadata": {},
   "outputs": [],
   "source": [
    "# Standarlize my liquor database to make the analysis more clear and apparent\n",
    "from scipy import stats\n",
    "import numpy as np\n",
    "\n",
    "# Calculate Z-scores for 'Bottles Sold'\n",
    "combined_df_t.loc[:, 'Z-score'] = np.abs(stats.zscore(combined_df_t['Bottles Sold']))\n",
    "\n",
    "# Identify outliers (Z-score > 3)\n",
    "outliers = combined_df_t[combined_df_t['Z-score'] > 3]\n",
    "\n",
    "# Print or display outliers\n",
    "# print(outliers)\n",
    "\n",
    "# Optionally, remove outliers\n",
    "cleaned_df = combined_df_t[combined_df_t['Z-score'] <= 3]\n"
   ]
  },
  {
   "cell_type": "code",
   "execution_count": 6,
   "metadata": {},
   "outputs": [],
   "source": [
    "# Imput images database and add them into the dataframe with liquors' sales\n",
    "import os\n",
    "import warnings\n",
    "\n",
    "# Define the image folder path\n",
    "image_folder = r'D:\\p\\liquor_images'\n",
    "\n",
    "# Generate a list of image filenames\n",
    "image_filenames = [f'l{i}.png' for i in range(18, 913)]\n",
    "\n",
    "# Create a list of full image paths\n",
    "image_paths = [os.path.join(image_folder, filename) for filename in image_filenames]\n",
    "\n",
    "# Add the image paths to the 'cleaned_df' dataframe\n",
    "cleaned_df['image_paths'] = image_paths\n",
    "cleaned_df.to_csv('D:/p/Iowa_Liquor_Sales_f.csv', index=False)\n",
    "warnings.filterwarnings('ignore')"
   ]
  },
  {
   "cell_type": "code",
   "execution_count": 7,
   "metadata": {},
   "outputs": [],
   "source": [
    "# Using pre training model VGG16 to extract features of liquors' images\n",
    "from tensorflow.keras.applications import VGG16\n",
    "from tensorflow.keras.models import Model\n",
    "from tensorflow.keras.preprocessing import image\n",
    "from tensorflow.keras.applications.vgg16 import preprocess_input\n",
    "import sys\n",
    "import contextlib\n",
    "\n",
    "# Suppresses TensorFlow info and warnings, shows only errors\n",
    "os.environ['TF_CPP_MIN_LOG_LEVEL'] = '3'\n",
    "\n",
    "# Load pre-trained VGG16 model (without the top classification layer)\n",
    "base_model = VGG16(weights='imagenet', include_top=False, pooling='avg')\n",
    "model = Model(inputs=base_model.input, outputs=base_model.output)\n",
    "\n",
    "# Function to suppress stdout (to hide the output during feature extraction)\n",
    "@contextlib.contextmanager\n",
    "def suppress_stdout():\n",
    "    with open(os.devnull, 'w') as devnull:\n",
    "        old_stdout = sys.stdout\n",
    "        sys.stdout = devnull\n",
    "        try:\n",
    "            yield\n",
    "        finally:\n",
    "            sys.stdout = old_stdout\n",
    "            \n",
    "def extract_features(img_path):\n",
    "    if os.path.exists(img_path):\n",
    "        # Load image and resize to (224, 224) as required by VGG16\n",
    "        img = image.load_img(img_path, target_size=(224, 224))\n",
    "        img_data = image.img_to_array(img)\n",
    "        img_data = np.expand_dims(img_data, axis=0)\n",
    "        img_data = preprocess_input(img_data)  # Preprocess the image as expected by VGG16\n",
    "        \n",
    "        # Extract features using VGG16 model without progress bar (verbose=0)\n",
    "        features = model.predict(img_data, verbose=0)\n",
    "        return features.flatten()  # Flatten the features for further use\n",
    "    else:\n",
    "        print(f\"File not found: {img_path}\")\n",
    "        return None\n",
    "cleaned_df['image_paths'] = cleaned_df['image_paths'].str.replace('.png', '.jpg')\n",
    "# Apply feature extraction to your dataframe (assuming 'cleaned_df' has a column 'image_paths')\n",
    "cleaned_df['features'] = cleaned_df['image_paths'].apply(extract_features)\n",
    "\n",
    "# Optional: check extracted features\n",
    "# print(cleaned_df.head())"
   ]
  },
  {
   "cell_type": "code",
   "execution_count": 8,
   "metadata": {},
   "outputs": [
    {
     "name": "stdout",
     "output_type": "stream",
     "text": [
      "(895, 512)\n",
      "(895,)\n"
     ]
    }
   ],
   "source": [
    "# Extract features and sales data into a new dataset\n",
    "features = np.array(cleaned_df['features'].tolist())\n",
    "sales = cleaned_df['Bottles Sold'].values\n",
    "sales_log = np.log1p(sales)\n",
    "\n",
    "# Check the shape of features and sales data\n",
    "print(features.shape)\n",
    "print(sales_log.shape)"
   ]
  },
  {
   "cell_type": "code",
   "execution_count": 9,
   "metadata": {},
   "outputs": [
    {
     "name": "stdout",
     "output_type": "stream",
     "text": [
      "\u001b[1m6/6\u001b[0m \u001b[32m━━━━━━━━━━━━━━━━━━━━\u001b[0m\u001b[37m\u001b[0m \u001b[1m0s\u001b[0m 9ms/step \n",
      "Mean Squared Error: 3.6451971569558914\n",
      "      Actual  Predicted\n",
      "0   8.718827   8.860093\n",
      "1   9.519148  10.278123\n",
      "2   9.268137   9.583838\n",
      "3   8.689633   7.243011\n",
      "4  12.321858   9.143518\n"
     ]
    }
   ],
   "source": [
    "# Using CNN to train and predict liquors sales by their images\n",
    "from sklearn.model_selection import train_test_split\n",
    "from sklearn.preprocessing import StandardScaler\n",
    "from sklearn.metrics import mean_squared_error\n",
    "from tensorflow.keras.models import Sequential\n",
    "from tensorflow.keras.layers import Dense\n",
    "from tensorflow.keras.optimizers import Adam\n",
    "from tensorflow.keras.regularizers import l2\n",
    "# Scale the features\n",
    "scaler = StandardScaler()\n",
    "features_scaled = scaler.fit_transform(features)\n",
    "\n",
    "# Split the dataset into training and testing sets\n",
    "X_train, X_test, y_train, y_test = train_test_split(features_scaled, sales_log, test_size=0.2, random_state=42)\n",
    "\n",
    "model = Sequential([\n",
    "    Dense(128, input_dim=features_scaled.shape[1], activation='relu', kernel_regularizer=l2(0.001)),\n",
    "    Dense(64, activation='relu', kernel_regularizer=l2(0.001)),\n",
    "    Dense(32, activation='relu', kernel_regularizer=l2(0.001)),\n",
    "    Dense(1)\n",
    "])\n",
    "\n",
    "# Compile the model\n",
    "model.compile(optimizer=Adam(learning_rate=0.0001), loss='mean_squared_error')\n",
    "\n",
    "# Train the model\n",
    "history = model.fit(X_train, y_train, epochs=1000, batch_size=16, validation_split=0.2, verbose=0)\n",
    "\n",
    "# Evaluate the model\n",
    "y_pred = model.predict(X_test)\n",
    "\n",
    "# Calculate Mean Squared Error\n",
    "mse = mean_squared_error(y_test, y_pred)\n",
    "print(f'Mean Squared Error: {mse}')\n",
    "\n",
    "# Print a few predictions\n",
    "results_df = pd.DataFrame({\n",
    "    'Actual': y_test,\n",
    "    'Predicted': y_pred.flatten()  # Flatten to match dimensions\n",
    "})\n",
    "os.environ['TF_CPP_MIN_LOG_LEVEL'] = '3'  # Suppresses TensorFlow info and warnings, shows only errors\n",
    "print(results_df.head(5))\n"
   ]
  },
  {
   "cell_type": "code",
   "execution_count": 10,
   "metadata": {},
   "outputs": [
    {
     "name": "stdout",
     "output_type": "stream",
     "text": [
      "Mean Squared Error (MSE): 3.6451971569558914\n",
      "Mean Absolute Error (MAE): 1.4924331261723058\n"
     ]
    }
   ],
   "source": [
    "# Check the predicting effect\n",
    "from sklearn.metrics import mean_absolute_error, r2_score, mean_squared_error\n",
    "\n",
    "# Calculate MSE, MAE, and R-squared\n",
    "mse = mean_squared_error(y_test, y_pred)\n",
    "mae = mean_absolute_error(y_test, y_pred)\n",
    "r2 = r2_score(y_test, y_pred)\n",
    "\n",
    "# Print the evaluation metrics\n",
    "print(f'Mean Squared Error (MSE): {mse}')\n",
    "print(f'Mean Absolute Error (MAE): {mae}')\n"
   ]
  }
 ],
 "metadata": {
  "kernelspec": {
   "display_name": "Python 3",
   "language": "python",
   "name": "python3"
  },
  "language_info": {
   "codemirror_mode": {
    "name": "ipython",
    "version": 3
   },
   "file_extension": ".py",
   "mimetype": "text/x-python",
   "name": "python",
   "nbconvert_exporter": "python",
   "pygments_lexer": "ipython3",
   "version": "3.12.0"
  }
 },
 "nbformat": 4,
 "nbformat_minor": 2
}
